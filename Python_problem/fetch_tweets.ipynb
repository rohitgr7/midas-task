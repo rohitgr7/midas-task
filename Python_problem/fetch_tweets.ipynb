{
 "cells": [
  {
   "cell_type": "markdown",
   "metadata": {},
   "source": [
    "## Load the required libraries\n",
    "\n",
    "Using\n",
    "- [jsonlies]('https://jsonlines.readthedocs.io/en/latest/) to save data to `.jsonl` format.\n",
    "- [tweepy]('https://github.com/tweepy/tweepy') as twitter API wrapper.\n",
    "- [pandas]('https://pandas.pydata.org/') to create tabular data."
   ]
  },
  {
   "cell_type": "code",
   "execution_count": 1,
   "metadata": {},
   "outputs": [],
   "source": [
    "from tweepy import API, Cursor\n",
    "from tweepy import OAuthHandler\n",
    "import pandas as pd\n",
    "import jsonlines\n",
    "from datetime import datetime"
   ]
  },
  {
   "cell_type": "markdown",
   "metadata": {},
   "source": [
    "## Credentials\n",
    "\n",
    "You need to define the twitter api credentials here:"
   ]
  },
  {
   "cell_type": "code",
   "execution_count": 2,
   "metadata": {},
   "outputs": [],
   "source": [
    "CREDENTIALS = {\n",
    "    'ACCESS_TOKEN': '',\n",
    "    'ACCESS_TOKEN_SECRET': '',\n",
    "    'CONSUMER_KEY': '',\n",
    "    'CONSUMER_SECRET': ''\n",
    "}"
   ]
  },
  {
   "cell_type": "markdown",
   "metadata": {},
   "source": [
    "## Paths\n",
    "\n",
    "Paths to save the files"
   ]
  },
  {
   "cell_type": "code",
   "execution_count": 3,
   "metadata": {},
   "outputs": [],
   "source": [
    "PATH_JSONL = 'midas_tweets.jsonl'\n",
    "PATH_MIDAS_DF = 'midas_tweets.csv'"
   ]
  },
  {
   "cell_type": "markdown",
   "metadata": {},
   "source": [
    "## Twitter Client"
   ]
  },
  {
   "cell_type": "code",
   "execution_count": 4,
   "metadata": {},
   "outputs": [],
   "source": [
    "class TwitterClient():\n",
    "    \"\"\"\n",
    "    Class which that authenticate and fetch tweets of a user from twitter\n",
    "    \"\"\"\n",
    "    def __init__(self, credentials, twitter_user=None):\n",
    "        \"Initialize the authentication process and twitter client\"\n",
    "        self.auth = None\n",
    "        self.tweets = None\n",
    "        self._authenticate(credentials)\n",
    "        self.twitter_client = API(self.auth)\n",
    "\n",
    "    def _authenticate(self, credentials):\n",
    "        \"Authenticate using the credentials\"\n",
    "        self.auth = OAuthHandler(credentials['CONSUMER_KEY'],\n",
    "                                 credentials['CONSUMER_SECRET'])\n",
    "        self.auth.set_access_token(credentials['ACCESS_TOKEN'],\n",
    "                                   credentials['ACCESS_TOKEN_SECRET'])\n",
    "\n",
    "    def fetch_user_tweets(self, user, ntweets=0):\n",
    "        \"Fetch tweets of a user\"\n",
    "        self.tweets = []\n",
    "        c = Cursor(self.twitter_client.user_timeline, tweet_mode='extended', id=user).items(ntweets)\n",
    "        \n",
    "        # Keep fetching the tweets until StopIteration Exception is raised by Tweepy\n",
    "        print(f'[INFO]: Fetching tweets of {user} ...')\n",
    "        while True:\n",
    "            try:\n",
    "                self.tweets.append(c.next()._json)\n",
    "            except StopIteration:                \n",
    "                break\n",
    "                \n",
    "        print(f'[INFO]: Fetched {len(self.tweets)} tweets.')    \n",
    "        \n",
    "    def dump_json(self, fpath):\n",
    "        \"Dumps the tweets to .json file defined by fpath\"\n",
    "        with jsonlines.open(fpath, 'w') as f:\n",
    "            f.write(self.tweets)"
   ]
  },
  {
   "cell_type": "markdown",
   "metadata": {},
   "source": [
    "## Parse tweets"
   ]
  },
  {
   "cell_type": "code",
   "execution_count": 5,
   "metadata": {},
   "outputs": [],
   "source": [
    "def parse_tweets_from_json(fpath):\n",
    "    \"\"\"\n",
    "    Extracts required info from .jsonl file and creates a dataframe\n",
    "    \"\"\"\n",
    "    \n",
    "    # Parsing .jsonl file containing the tweets \n",
    "    tweets = None\n",
    "    with jsonlines.open(fpath, 'r') as f:\n",
    "        tweets = f.read()\n",
    "\n",
    "    # Creating a dataframe and saving the required info\n",
    "    df = pd.DataFrame(\n",
    "        data=[[\n",
    "            tweet['full_text'],\n",
    "            datetime.strptime(tweet['created_at'], '%a %b %d %H:%M:%S +%f %Y'),\n",
    "            tweet['favorite_count'],\n",
    "            tweet['retweet_count']\n",
    "        ] for tweet in tweets],\n",
    "        columns=['text', 'created_at', 'num_likes', 'num_retweets']\n",
    "    )\n",
    "    \n",
    "    # Extracting the number of images from a tweet\n",
    "    df['num_images'] = [len(list(filter(lambda m: m['type'] == 'photo', tweet['extended_entities']['media'])))\n",
    "                        if 'extended_entities' in tweet else None for tweet in tweets]\n",
    "\n",
    "    return df"
   ]
  },
  {
   "cell_type": "markdown",
   "metadata": {},
   "source": [
    "## Workflow"
   ]
  },
  {
   "cell_type": "code",
   "execution_count": 6,
   "metadata": {},
   "outputs": [
    {
     "name": "stdout",
     "output_type": "stream",
     "text": [
      "[INFO]: Fetching tweets of midasIIITD ...\n",
      "[INFO]: Fetched 338 tweets.\n"
     ]
    }
   ],
   "source": [
    "# Creating twitter client object using Tweepy\n",
    "tw_client = TwitterClient(CREDENTIALS)\n",
    "\n",
    "# Fetching the tweets\n",
    "tw_client.fetch_user_tweets('midasIIITD')\n",
    "\n",
    "# Saving the tweets to .jsonl file\n",
    "tw_client.dump_json(PATH_JSONL)"
   ]
  },
  {
   "cell_type": "code",
   "execution_count": 7,
   "metadata": {},
   "outputs": [],
   "source": [
    "# Extrating data and saving it to .csv\n",
    "midas_df = parse_tweets_from_json(PATH_JSONL)\n",
    "midas_df.to_csv(PATH_MIDAS_DF, header=True, index=False)"
   ]
  },
  {
   "cell_type": "code",
   "execution_count": 8,
   "metadata": {},
   "outputs": [
    {
     "name": "stdout",
     "output_type": "stream",
     "text": [
      "Size: (338, 5)\n"
     ]
    },
    {
     "data": {
      "text/html": [
       "<div>\n",
       "<style scoped>\n",
       "    .dataframe tbody tr th:only-of-type {\n",
       "        vertical-align: middle;\n",
       "    }\n",
       "\n",
       "    .dataframe tbody tr th {\n",
       "        vertical-align: top;\n",
       "    }\n",
       "\n",
       "    .dataframe thead th {\n",
       "        text-align: right;\n",
       "    }\n",
       "</style>\n",
       "<table border=\"1\" class=\"dataframe\">\n",
       "  <thead>\n",
       "    <tr style=\"text-align: right;\">\n",
       "      <th></th>\n",
       "      <th>text</th>\n",
       "      <th>created_at</th>\n",
       "      <th>num_likes</th>\n",
       "      <th>num_retweets</th>\n",
       "      <th>num_images</th>\n",
       "    </tr>\n",
       "  </thead>\n",
       "  <tbody>\n",
       "    <tr>\n",
       "      <th>0</th>\n",
       "      <td>Many Congratulations to @midasIIITD student, S...</td>\n",
       "      <td>2019-04-08 07:08:12</td>\n",
       "      <td>12</td>\n",
       "      <td>2</td>\n",
       "      <td>1.0</td>\n",
       "    </tr>\n",
       "    <tr>\n",
       "      <th>1</th>\n",
       "      <td>@midasIIITD thanks all students who have appea...</td>\n",
       "      <td>2019-04-08 03:27:42</td>\n",
       "      <td>3</td>\n",
       "      <td>0</td>\n",
       "      <td>1.0</td>\n",
       "    </tr>\n",
       "    <tr>\n",
       "      <th>2</th>\n",
       "      <td>@himanchalchandr Meanwhile, complete CV/NLP ta...</td>\n",
       "      <td>2019-04-07 14:17:29</td>\n",
       "      <td>0</td>\n",
       "      <td>0</td>\n",
       "      <td>NaN</td>\n",
       "    </tr>\n",
       "    <tr>\n",
       "      <th>3</th>\n",
       "      <td>@sayangdipto123 Submit as per the guideline ag...</td>\n",
       "      <td>2019-04-07 14:17:09</td>\n",
       "      <td>0</td>\n",
       "      <td>0</td>\n",
       "      <td>NaN</td>\n",
       "    </tr>\n",
       "    <tr>\n",
       "      <th>4</th>\n",
       "      <td>We request all students whose interview are sc...</td>\n",
       "      <td>2019-04-07 11:43:24</td>\n",
       "      <td>1</td>\n",
       "      <td>1</td>\n",
       "      <td>NaN</td>\n",
       "    </tr>\n",
       "    <tr>\n",
       "      <th>5</th>\n",
       "      <td>Other queries: \"none of the Tweeter Apis give ...</td>\n",
       "      <td>2019-04-07 06:55:19</td>\n",
       "      <td>5</td>\n",
       "      <td>2</td>\n",
       "      <td>NaN</td>\n",
       "    </tr>\n",
       "    <tr>\n",
       "      <th>6</th>\n",
       "      <td>Other queries: \"do we have to make two differe...</td>\n",
       "      <td>2019-04-07 06:53:38</td>\n",
       "      <td>4</td>\n",
       "      <td>1</td>\n",
       "      <td>NaN</td>\n",
       "    </tr>\n",
       "  </tbody>\n",
       "</table>\n",
       "</div>"
      ],
      "text/plain": [
       "                                                text           created_at  \\\n",
       "0  Many Congratulations to @midasIIITD student, S...  2019-04-08 07:08:12   \n",
       "1  @midasIIITD thanks all students who have appea...  2019-04-08 03:27:42   \n",
       "2  @himanchalchandr Meanwhile, complete CV/NLP ta...  2019-04-07 14:17:29   \n",
       "3  @sayangdipto123 Submit as per the guideline ag...  2019-04-07 14:17:09   \n",
       "4  We request all students whose interview are sc...  2019-04-07 11:43:24   \n",
       "5  Other queries: \"none of the Tweeter Apis give ...  2019-04-07 06:55:19   \n",
       "6  Other queries: \"do we have to make two differe...  2019-04-07 06:53:38   \n",
       "\n",
       "   num_likes  num_retweets  num_images  \n",
       "0         12             2         1.0  \n",
       "1          3             0         1.0  \n",
       "2          0             0         NaN  \n",
       "3          0             0         NaN  \n",
       "4          1             1         NaN  \n",
       "5          5             2         NaN  \n",
       "6          4             1         NaN  "
      ]
     },
     "execution_count": 8,
     "metadata": {},
     "output_type": "execute_result"
    }
   ],
   "source": [
    "# Reading the saved .csv file\n",
    "midas_df = pd.read_csv(PATH_MIDAS_DF)\n",
    "print(f'Size: {midas_df.shape}')\n",
    "midas_df.head(7)"
   ]
  },
  {
   "cell_type": "code",
   "execution_count": null,
   "metadata": {},
   "outputs": [],
   "source": []
  }
 ],
 "metadata": {
  "kernelspec": {
   "display_name": "Python 3",
   "language": "python",
   "name": "python3"
  },
  "language_info": {
   "codemirror_mode": {
    "name": "ipython",
    "version": 3
   },
   "file_extension": ".py",
   "mimetype": "text/x-python",
   "name": "python",
   "nbconvert_exporter": "python",
   "pygments_lexer": "ipython3",
   "version": "3.7.2"
  },
  "varInspector": {
   "cols": {
    "lenName": 16,
    "lenType": 16,
    "lenVar": 40
   },
   "kernels_config": {
    "python": {
     "delete_cmd_postfix": "",
     "delete_cmd_prefix": "del ",
     "library": "var_list.py",
     "varRefreshCmd": "print(var_dic_list())"
    },
    "r": {
     "delete_cmd_postfix": ") ",
     "delete_cmd_prefix": "rm(",
     "library": "var_list.r",
     "varRefreshCmd": "cat(var_dic_list()) "
    }
   },
   "types_to_exclude": [
    "module",
    "function",
    "builtin_function_or_method",
    "instance",
    "_Feature"
   ],
   "window_display": false
  }
 },
 "nbformat": 4,
 "nbformat_minor": 2
}
