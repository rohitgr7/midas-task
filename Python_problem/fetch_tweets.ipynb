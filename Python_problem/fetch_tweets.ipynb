{
 "cells": [
  {
   "cell_type": "markdown",
   "metadata": {},
   "source": [
    "## Load the required libraries\n",
    "\n",
    "Using\n",
    "- [jsonlies]('https://jsonlines.readthedocs.io/en/latest/) to save data to `.jsonl` format.\n",
    "- [tweepy]('https://github.com/tweepy/tweepy') as twitter API wrapper.\n",
    "- [pandas]('https://pandas.pydata.org/') to create tabular data."
   ]
  },
  {
   "cell_type": "code",
   "execution_count": 9,
   "metadata": {},
   "outputs": [],
   "source": [
    "from tweepy import API, Cursor\n",
    "from tweepy import OAuthHandler\n",
    "import pandas as pd\n",
    "import jsonlines"
   ]
  },
  {
   "cell_type": "markdown",
   "metadata": {},
   "source": [
    "## Credentials\n",
    "\n",
    "You need to define the twitter api credentials here"
   ]
  },
  {
   "cell_type": "code",
   "execution_count": 2,
   "metadata": {},
   "outputs": [],
   "source": [
    "CREDENTIALS = {\n",
    "    'ACCESS_TOKEN': '',\n",
    "    'ACCESS_TOKEN_SECRET': '',\n",
    "    'CONSUMER_KEY': '',\n",
    "    'CONSUMER_SECRET': ''\n",
    "}"
   ]
  },
  {
   "cell_type": "markdown",
   "metadata": {},
   "source": [
    "## Paths\n",
    "\n",
    "Paths to save the files"
   ]
  },
  {
   "cell_type": "code",
   "execution_count": 3,
   "metadata": {},
   "outputs": [],
   "source": [
    "PATH_JSONL = 'midas_tweets.jsonl'\n",
    "PATH_MIDAS_DF = 'midas_tweets.csv'"
   ]
  },
  {
   "cell_type": "markdown",
   "metadata": {},
   "source": [
    "## Twitter Client"
   ]
  },
  {
   "cell_type": "code",
   "execution_count": 4,
   "metadata": {},
   "outputs": [],
   "source": [
    "class TwitterClient():\n",
    "    \"\"\"\n",
    "    Class which that authenticate and fetch tweets of a user from twitter\n",
    "    \"\"\"\n",
    "    def __init__(self, credentials, twitter_user=None):\n",
    "        \"Initialize the authentication process and twitter client\"\n",
    "        self.auth = None\n",
    "        self.tweets = None\n",
    "        self._authenticate(credentials)\n",
    "        self.twitter_client = API(self.auth)\n",
    "\n",
    "    def _authenticate(self, credentials):\n",
    "        \"Authenticate using the credentials\"\n",
    "        self.auth = OAuthHandler(credentials['CONSUMER_KEY'],\n",
    "                                 credentials['CONSUMER_SECRET'])\n",
    "        self.auth.set_access_token(credentials['ACCESS_TOKEN'],\n",
    "                                   credentials['ACCESS_TOKEN_SECRET'])\n",
    "\n",
    "    def fetch_user_tweets(self, user, ntweets=0):\n",
    "        \"Fetch tweets of a user\"\n",
    "        self.tweets = []\n",
    "        c = Cursor(self.twitter_client.user_timeline, tweet_mode='extended', id=user).items(ntweets)\n",
    "        \n",
    "        # Keep fetching the tweets until StopIteration Exception is raised by Tweepy\n",
    "        while True:\n",
    "            try:\n",
    "                self.tweets.append(c.next()._json)\n",
    "            except StopIteration:\n",
    "                break\n",
    "                \n",
    "        print(f'[INFO]: Fetched {len(self.tweets)} tweets.')    \n",
    "        \n",
    "    def dump_json(self, fpath):\n",
    "        \"Dumps the tweets to .json file defined by fpath\"\n",
    "        with jsonlines.open(fpath, 'w') as f:\n",
    "            f.write(self.tweets)"
   ]
  },
  {
   "cell_type": "markdown",
   "metadata": {},
   "source": [
    "## Parse tweets"
   ]
  },
  {
   "cell_type": "code",
   "execution_count": 5,
   "metadata": {},
   "outputs": [],
   "source": [
    "def parse_tweets_from_json(fpath):\n",
    "    \"\"\"\n",
    "    Extracts required info from .jsonl file and creates a dataframe\n",
    "    \"\"\"\n",
    "    \n",
    "    # Parsing .jsonl file containing the tweets \n",
    "    tweets = None\n",
    "    with jsonlines.open(fpath, 'r') as f:\n",
    "        tweets = f.read()\n",
    "\n",
    "    # Creating a dataframe and saving the required info\n",
    "    df = pd.DataFrame(\n",
    "        data=[[tweet['full_text'], tweet['created_at'], tweet['favorite_count'], tweet['retweet_count']] for tweet in tweets],\n",
    "        columns=['text', 'created_at', 'num_likes', 'num_retweets']\n",
    "    )\n",
    "    \n",
    "    # Extracting the number of images from a tweet\n",
    "    df['num_images'] = [len([t for t in tweet['extended_entities']['media'] if t['type'] == 'photo'])\n",
    "                        if 'extended_entities' in tweet else None for tweet in tweets]\n",
    "\n",
    "    return df"
   ]
  },
  {
   "cell_type": "markdown",
   "metadata": {},
   "source": [
    "## Workflow"
   ]
  },
  {
   "cell_type": "code",
   "execution_count": 6,
   "metadata": {},
   "outputs": [
    {
     "name": "stdout",
     "output_type": "stream",
     "text": [
      "[INFO]: Fetched 333 tweets.\n"
     ]
    }
   ],
   "source": [
    "# Creating twitter client object using Tweepy\n",
    "tw_client = TwitterClient(CREDENTIALS)\n",
    "\n",
    "# Fetching the tweets\n",
    "tw_client.fetch_user_tweets('midasIIITD')\n",
    "\n",
    "# Saving the tweets to .jsonl file\n",
    "tw_client.dump_json(PATH_JSONL)"
   ]
  },
  {
   "cell_type": "code",
   "execution_count": 7,
   "metadata": {},
   "outputs": [],
   "source": [
    "# Extrating data and saving it to .csv\n",
    "midas_df = parse_tweets_from_json(PATH_JSONL)\n",
    "midas_df.to_csv(PATH_MIDAS_DF, header=True, index=False)"
   ]
  },
  {
   "cell_type": "code",
   "execution_count": 8,
   "metadata": {},
   "outputs": [
    {
     "name": "stdout",
     "output_type": "stream",
     "text": [
      "Size: (333, 5)\n"
     ]
    },
    {
     "data": {
      "text/html": [
       "<div>\n",
       "<style scoped>\n",
       "    .dataframe tbody tr th:only-of-type {\n",
       "        vertical-align: middle;\n",
       "    }\n",
       "\n",
       "    .dataframe tbody tr th {\n",
       "        vertical-align: top;\n",
       "    }\n",
       "\n",
       "    .dataframe thead th {\n",
       "        text-align: right;\n",
       "    }\n",
       "</style>\n",
       "<table border=\"1\" class=\"dataframe\">\n",
       "  <thead>\n",
       "    <tr style=\"text-align: right;\">\n",
       "      <th></th>\n",
       "      <th>text</th>\n",
       "      <th>created_at</th>\n",
       "      <th>num_likes</th>\n",
       "      <th>num_retweets</th>\n",
       "      <th>num_images</th>\n",
       "    </tr>\n",
       "  </thead>\n",
       "  <tbody>\n",
       "    <tr>\n",
       "      <th>0</th>\n",
       "      <td>Other queries: \"none of the Tweeter Apis give ...</td>\n",
       "      <td>Sun Apr 07 06:55:19 +0000 2019</td>\n",
       "      <td>3</td>\n",
       "      <td>2</td>\n",
       "      <td>NaN</td>\n",
       "    </tr>\n",
       "    <tr>\n",
       "      <th>1</th>\n",
       "      <td>Other queries: \"do we have to make two differe...</td>\n",
       "      <td>Sun Apr 07 06:53:38 +0000 2019</td>\n",
       "      <td>3</td>\n",
       "      <td>1</td>\n",
       "      <td>NaN</td>\n",
       "    </tr>\n",
       "    <tr>\n",
       "      <th>2</th>\n",
       "      <td>Other queries: \"If using Twitter api, it does ...</td>\n",
       "      <td>Sun Apr 07 05:32:27 +0000 2019</td>\n",
       "      <td>4</td>\n",
       "      <td>1</td>\n",
       "      <td>NaN</td>\n",
       "    </tr>\n",
       "    <tr>\n",
       "      <th>3</th>\n",
       "      <td>Response to some queries asked by students on ...</td>\n",
       "      <td>Sun Apr 07 05:29:40 +0000 2019</td>\n",
       "      <td>6</td>\n",
       "      <td>1</td>\n",
       "      <td>NaN</td>\n",
       "    </tr>\n",
       "    <tr>\n",
       "      <th>4</th>\n",
       "      <td>RT @kdnuggets: Top 8 #Free Must-Read #Books on...</td>\n",
       "      <td>Sat Apr 06 17:11:29 +0000 2019</td>\n",
       "      <td>0</td>\n",
       "      <td>2</td>\n",
       "      <td>NaN</td>\n",
       "    </tr>\n",
       "    <tr>\n",
       "      <th>5</th>\n",
       "      <td>@nupur_baghel @PennDATS Congratulation @nupur_...</td>\n",
       "      <td>Sat Apr 06 16:43:27 +0000 2019</td>\n",
       "      <td>14</td>\n",
       "      <td>3</td>\n",
       "      <td>1.0</td>\n",
       "    </tr>\n",
       "    <tr>\n",
       "      <th>6</th>\n",
       "      <td>We have emailed the task details to all candid...</td>\n",
       "      <td>Fri Apr 05 16:08:37 +0000 2019</td>\n",
       "      <td>10</td>\n",
       "      <td>1</td>\n",
       "      <td>NaN</td>\n",
       "    </tr>\n",
       "  </tbody>\n",
       "</table>\n",
       "</div>"
      ],
      "text/plain": [
       "                                                text  \\\n",
       "0  Other queries: \"none of the Tweeter Apis give ...   \n",
       "1  Other queries: \"do we have to make two differe...   \n",
       "2  Other queries: \"If using Twitter api, it does ...   \n",
       "3  Response to some queries asked by students on ...   \n",
       "4  RT @kdnuggets: Top 8 #Free Must-Read #Books on...   \n",
       "5  @nupur_baghel @PennDATS Congratulation @nupur_...   \n",
       "6  We have emailed the task details to all candid...   \n",
       "\n",
       "                       created_at  num_likes  num_retweets  num_images  \n",
       "0  Sun Apr 07 06:55:19 +0000 2019          3             2         NaN  \n",
       "1  Sun Apr 07 06:53:38 +0000 2019          3             1         NaN  \n",
       "2  Sun Apr 07 05:32:27 +0000 2019          4             1         NaN  \n",
       "3  Sun Apr 07 05:29:40 +0000 2019          6             1         NaN  \n",
       "4  Sat Apr 06 17:11:29 +0000 2019          0             2         NaN  \n",
       "5  Sat Apr 06 16:43:27 +0000 2019         14             3         1.0  \n",
       "6  Fri Apr 05 16:08:37 +0000 2019         10             1         NaN  "
      ]
     },
     "execution_count": 8,
     "metadata": {},
     "output_type": "execute_result"
    }
   ],
   "source": [
    "# Reading the saved .csv file\n",
    "midas_df = pd.read_csv(PATH_MIDAS_DF)\n",
    "print(f'Size: {midas_df.shape}')\n",
    "midas_df.head(7)"
   ]
  },
  {
   "cell_type": "code",
   "execution_count": null,
   "metadata": {},
   "outputs": [],
   "source": []
  }
 ],
 "metadata": {
  "kernelspec": {
   "display_name": "Python 3",
   "language": "python",
   "name": "python3"
  },
  "language_info": {
   "codemirror_mode": {
    "name": "ipython",
    "version": 3
   },
   "file_extension": ".py",
   "mimetype": "text/x-python",
   "name": "python",
   "nbconvert_exporter": "python",
   "pygments_lexer": "ipython3",
   "version": "3.7.2"
  },
  "varInspector": {
   "cols": {
    "lenName": 16,
    "lenType": 16,
    "lenVar": 40
   },
   "kernels_config": {
    "python": {
     "delete_cmd_postfix": "",
     "delete_cmd_prefix": "del ",
     "library": "var_list.py",
     "varRefreshCmd": "print(var_dic_list())"
    },
    "r": {
     "delete_cmd_postfix": ") ",
     "delete_cmd_prefix": "rm(",
     "library": "var_list.r",
     "varRefreshCmd": "cat(var_dic_list()) "
    }
   },
   "types_to_exclude": [
    "module",
    "function",
    "builtin_function_or_method",
    "instance",
    "_Feature"
   ],
   "window_display": false
  }
 },
 "nbformat": 4,
 "nbformat_minor": 2
}
