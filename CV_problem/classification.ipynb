{
 "cells": [
  {
   "cell_type": "markdown",
   "metadata": {},
   "source": [
    "## Approach\n",
    "- Used transfer learning by using an imagenet pretrained network\n",
    "- Since the images are small (28x28), I used resnet18 which is not too deep.\n",
    "- Converted images to RGB to extract more information\n",
    "- Used fastai learner for training because:\n",
    "    1. it has boilerplate code for training a pytorch model\n",
    "    2. it has onecycle-scheduler which works pretty good in practice and helps in faster convergence.\n",
    "    3. it has implementation of freezing and unfreezing layers for transfer-learning\n",
    "- Used concat-pooling after the conv-layers which works better than the usual Flatten layer\n",
    "- Resized images to 224x224 during preprocessing using bilinear interpolation to get a better receptive-field as compared to 28x28.\n",
    "- Fine-tuning pretrained conv-layers didn't help"
   ]
  },
  {
   "cell_type": "markdown",
   "metadata": {},
   "source": [
    "## Load libraries"
   ]
  },
  {
   "cell_type": "code",
   "execution_count": 1,
   "metadata": {},
   "outputs": [],
   "source": [
    "import pandas as pd\n",
    "from PIL import Image\n",
    "from pathlib import Path\n",
    "import pickle\n",
    "import numpy as np\n",
    "import matplotlib.pyplot as plt\n",
    "from tqdm import tqdm\n",
    "import random\n",
    "\n",
    "# Libraries specific to deep learning\n",
    "import torch\n",
    "from torch import nn, optim\n",
    "from torch.utils.data import Dataset, DataLoader\n",
    "from torch.utils.data.sampler import SubsetRandomSampler\n",
    "from fastai.vision import DataBunch, Learner\n",
    "from torchvision import models, transforms"
   ]
  },
  {
   "cell_type": "markdown",
   "metadata": {},
   "source": [
    "**Seed for reproducibility**"
   ]
  },
  {
   "cell_type": "code",
   "execution_count": 2,
   "metadata": {},
   "outputs": [],
   "source": [
    "SEED = 7\n",
    "\n",
    "# python RNG\n",
    "random.seed(SEED)\n",
    "\n",
    "# pytorch RNGs\n",
    "torch.manual_seed(SEED)\n",
    "torch.backends.cudnn.deterministic = True\n",
    "\n",
    "# numpy RNG\n",
    "np.random.seed(SEED)"
   ]
  },
  {
   "cell_type": "code",
   "execution_count": 3,
   "metadata": {},
   "outputs": [
    {
     "data": {
      "text/plain": [
       "['train_image.pkl',\n",
       " 'test_image.pkl',\n",
       " 'hitkul(sample_submission).csv',\n",
       " 'train_label.pkl']"
      ]
     },
     "execution_count": 3,
     "metadata": {},
     "output_type": "execute_result"
    }
   ],
   "source": [
    "# View the available files\n",
    "PATH = Path('../input/vision_task_dataset_public-20190406t113732z-001/Vision_task_dataset_public')\n",
    "[f.name for f in PATH.iterdir()]"
   ]
  },
  {
   "cell_type": "markdown",
   "metadata": {},
   "source": [
    "## Load data"
   ]
  },
  {
   "cell_type": "code",
   "execution_count": 4,
   "metadata": {},
   "outputs": [
    {
     "name": "stdout",
     "output_type": "stream",
     "text": [
      "Sample Size: (4, 2)\n"
     ]
    },
    {
     "data": {
      "text/html": [
       "<div>\n",
       "<style scoped>\n",
       "    .dataframe tbody tr th:only-of-type {\n",
       "        vertical-align: middle;\n",
       "    }\n",
       "\n",
       "    .dataframe tbody tr th {\n",
       "        vertical-align: top;\n",
       "    }\n",
       "\n",
       "    .dataframe thead th {\n",
       "        text-align: right;\n",
       "    }\n",
       "</style>\n",
       "<table border=\"1\" class=\"dataframe\">\n",
       "  <thead>\n",
       "    <tr style=\"text-align: right;\">\n",
       "      <th></th>\n",
       "      <th>image_index</th>\n",
       "      <th>class</th>\n",
       "    </tr>\n",
       "  </thead>\n",
       "  <tbody>\n",
       "    <tr>\n",
       "      <th>0</th>\n",
       "      <td>0</td>\n",
       "      <td>2</td>\n",
       "    </tr>\n",
       "    <tr>\n",
       "      <th>1</th>\n",
       "      <td>1</td>\n",
       "      <td>3</td>\n",
       "    </tr>\n",
       "    <tr>\n",
       "      <th>2</th>\n",
       "      <td>2</td>\n",
       "      <td>0</td>\n",
       "    </tr>\n",
       "    <tr>\n",
       "      <th>3</th>\n",
       "      <td>3</td>\n",
       "      <td>6</td>\n",
       "    </tr>\n",
       "  </tbody>\n",
       "</table>\n",
       "</div>"
      ],
      "text/plain": [
       "   image_index  class\n",
       "0            0      2\n",
       "1            1      3\n",
       "2            2      0\n",
       "3            3      6"
      ]
     },
     "execution_count": 4,
     "metadata": {},
     "output_type": "execute_result"
    }
   ],
   "source": [
    "with open(PATH/'train_image.pkl', 'rb') as f:\n",
    "    train_imgs = pickle.load(f)\n",
    "\n",
    "with open(PATH/'test_image.pkl', 'rb') as f:\n",
    "    test_imgs = pickle.load(f)\n",
    "\n",
    "with open(PATH/'train_label.pkl', 'rb') as f:\n",
    "    train_lbls = pickle.load(f)\n",
    "\n",
    "samples_df = pd.read_csv(PATH/'hitkul(sample_submission).csv')\n",
    "print(f'Sample Size: {samples_df.shape}')\n",
    "samples_df.head()"
   ]
  },
  {
   "cell_type": "code",
   "execution_count": 5,
   "metadata": {},
   "outputs": [
    {
     "data": {
      "text/plain": [
       "3    0.25\n",
       "6    0.25\n",
       "2    0.25\n",
       "0    0.25\n",
       "dtype: float64"
      ]
     },
     "execution_count": 5,
     "metadata": {},
     "output_type": "execute_result"
    }
   ],
   "source": [
    "# Amount of samples available for each class\n",
    "pd.Series(train_lbls).value_counts(normalize=True)"
   ]
  },
  {
   "cell_type": "markdown",
   "metadata": {},
   "source": [
    "Looks like we have a perfectly balanced dataset"
   ]
  },
  {
   "cell_type": "markdown",
   "metadata": {},
   "source": [
    "## Visualize the data"
   ]
  },
  {
   "cell_type": "code",
   "execution_count": 6,
   "metadata": {},
   "outputs": [],
   "source": [
    "def show_grid(imgs, lbls, mat=3, figsize=(8, 8)):\n",
    "    \"Takes the images and labels and display them in a grid\"\n",
    "    ixs = random.sample(range(len(imgs)), mat**2)\n",
    "\n",
    "    _, axes = plt.subplots(mat, mat, figsize=figsize)\n",
    "    for i, ix in enumerate(ixs):\n",
    "        ax = axes[i // mat, i % mat]\n",
    "        ax.imshow(np.array(imgs[i]).reshape(28, 28), cmap='gray')\n",
    "        ax.axis('off')\n",
    "        ax.set_title(lbls[ix])"
   ]
  },
  {
   "cell_type": "markdown",
   "metadata": {},
   "source": [
    "**Let's see the images along with their labels\n",
    "**"
   ]
  },
  {
   "cell_type": "code",
   "execution_count": 7,
   "metadata": {},
   "outputs": [
    {
     "data": {
      "image/png": "[encoded data removed]",
      "text/plain": [
       "<Figure size 576x576 with 9 Axes>"
      ]
     },
     "metadata": {},
     "output_type": "display_data"
    }
   ],
   "source": [
    "show_grid(train_imgs, train_lbls)"
   ]
  },
  {
   "cell_type": "markdown",
   "metadata": {},
   "source": [
    "## Pytorch Module layers"
   ]
  },
  {
   "cell_type": "code",
   "execution_count": 8,
   "metadata": {},
   "outputs": [],
   "source": [
    "class Flatten(nn.Module):\n",
    "    \"Flattens the input tensor to 2D tensor\"\n",
    "    def __init__(self):\n",
    "        super().__init__()\n",
    "\n",
    "    def forward(self, x):\n",
    "        return x.view(x.size(0), -1)\n",
    "\n",
    "class AdaptiveConcatPool2d(nn.Module):\n",
    "    \"Layer that concats AdaptiveAvgPool2d and AdaptiveMaxPool2d\"\n",
    "    def __init__(self):\n",
    "        super().__init__()\n",
    "        self.ap = nn.AdaptiveAvgPool2d(1)\n",
    "        self.mp = nn.AdaptiveMaxPool2d(1)\n",
    "\n",
    "    def forward(self, x):\n",
    "        return torch.cat([self.mp(x), self.ap(x)], 1)"
   ]
  },
  {
   "cell_type": "markdown",
   "metadata": {},
   "source": [
    "## Create network"
   ]
  },
  {
   "cell_type": "code",
   "execution_count": 9,
   "metadata": {},
   "outputs": [],
   "source": [
    "def bn_lin_layer(f_in, f_out, ps):\n",
    "    \"Sequence of Batchnorm, Dropout, Linear and ReLU activation layer\"\n",
    "    return [nn.BatchNorm1d(f_in), nn.Dropout(ps), nn.Linear(f_in, f_out), nn.ReLU(inplace=True)]\n",
    "\n",
    "def create_body(arch, pretrained):\n",
    "    \"Creates the body by removing the linear-layers from a pretrained model\"\n",
    "    return nn.Sequential(*list(arch(pretrained=pretrained).children())[:-2])\n",
    "\n",
    "\n",
    "def create_head(n_feats, n_classes, lin_layers, concat_pool, ps):\n",
    "    \"Create the head of the model with linear layers and AdaptiveConcatPool2d\"\n",
    "    lin_layers = [n_feats] + lin_layers + [n_classes]\n",
    "    pool = AdaptiveConcatPool2d() if concat_pool else nn.AdaptiveAvgPool2d(1)\n",
    "    layers = [pool, Flatten()]\n",
    "\n",
    "    for f_in, f_out in zip(lin_layers[:-1], lin_layers[1:]):\n",
    "        layers.extend(bn_lin_layer(f_in, f_out, ps))\n",
    "\n",
    "    return nn.Sequential(*layers[:-1])\n",
    "\n",
    "\n",
    "def create_net(arch, lin_layers, n_classes, pretrained=False, concat_pool=False, ps=0.5):\n",
    "    \"Creates the architecture by joining the body and head in sequence\"\n",
    "    pre_body = create_body(arch, pretrained)\n",
    "    n_feats = 512 * (2 if concat_pool else 1)\n",
    "    pre_head = create_head(n_feats, n_classes, lin_layers, concat_pool, ps)\n",
    "\n",
    "    return nn.Sequential(pre_body, pre_head)"
   ]
  },
  {
   "cell_type": "markdown",
   "metadata": {},
   "source": [
    "## Datasets and Dataloaders"
   ]
  },
  {
   "cell_type": "code",
   "execution_count": 10,
   "metadata": {},
   "outputs": [],
   "source": [
    "class VisionDataset(Dataset):\n",
    "    \"\"\"\n",
    "    Dataset class inhereted from pytorch Dataset which preprocess the arrays\n",
    "    and apply augmentation of the tensors\n",
    "    \"\"\"\n",
    "    def __init__(self, data, tfms, labels=None):\n",
    "        \"\"\"\n",
    "        Arguments\n",
    "            data: array with each element defining the 1d-tensor pixels\n",
    "            tfms: defines the transforms for augmentation\n",
    "            labels: defines the actual labels\n",
    "        \"\"\"\n",
    "        self.data = data\n",
    "        self.tfms = tfms\n",
    "        self.labels = labels\n",
    "\n",
    "    def __getitem__(self, idx):\n",
    "        \"Returns one item at a time depending upon the index: idx\"\n",
    "        # Convert tensor to PIL.Image and then to RGB\n",
    "        item = Image.fromarray(np.array(self.data[idx]).reshape(28, 28).astype(np.uint8))\n",
    "        item = item.convert('RGB')\n",
    "        \n",
    "        # Apply transforms\n",
    "        item = self.tfms(item)\n",
    "        \n",
    "        if self.labels is None:\n",
    "            return item\n",
    "        return item, self.labels[idx]\n",
    "\n",
    "    def __len__(self):\n",
    "        \"Returns the length of the dataset\"\n",
    "        return len(self.data)"
   ]
  },
  {
   "cell_type": "code",
   "execution_count": 11,
   "metadata": {},
   "outputs": [],
   "source": [
    "def get_dls(train_imgs, train_lbls, test_imgs, tfms, batch_sz, n_workers, valid_split=0.2):\n",
    "    \"Creates the dataloaders for training, validation and testing\"\n",
    "    \n",
    "    # Shuffle the data since the original labels are in sequence\n",
    "    d_size = len(train_imgs)\n",
    "    ixs = np.random.permutation(range(d_size))\n",
    "    \n",
    "    # Split into train and valid\n",
    "    split = int(d_size * valid_split)\n",
    "    train_ixs, valid_ixs = ixs[split:], ixs[:split]\n",
    "\n",
    "    # Sampler for train and valid dataset\n",
    "    train_sampler = SubsetRandomSampler(train_ixs)\n",
    "    valid_sampler = SubsetRandomSampler(valid_ixs)\n",
    "\n",
    "    # Create the train and test dataset\n",
    "    train_ds = VisionDataset(train_imgs, tfms[0], train_lbls)\n",
    "    test_ds = VisionDataset(test_imgs, tfms[1])\n",
    "\n",
    "    # Create the dataloaders\n",
    "    train_dl = DataLoader(train_ds, batch_sz, sampler=train_sampler, num_workers=n_workers)\n",
    "    valid_dl = DataLoader(train_ds, batch_sz, sampler=valid_sampler, num_workers=n_workers)\n",
    "    test_dl = DataLoader(test_ds, batch_sz, num_workers=n_workers)\n",
    "\n",
    "    return train_dl, valid_dl, test_dl"
   ]
  },
  {
   "cell_type": "markdown",
   "metadata": {},
   "source": [
    "## Metrics"
   ]
  },
  {
   "cell_type": "code",
   "execution_count": 12,
   "metadata": {},
   "outputs": [],
   "source": [
    "def accuracy(preds, targets):\n",
    "    preds = torch.max(preds, dim=1)[1]\n",
    "    return (preds == targets).float().mean()"
   ]
  },
  {
   "cell_type": "markdown",
   "metadata": {},
   "source": [
    "## Workflow"
   ]
  },
  {
   "cell_type": "code",
   "execution_count": 13,
   "metadata": {},
   "outputs": [],
   "source": [
    "# Some constants\n",
    "BATCH_SIZE = 64\n",
    "NUM_WORKERS = 4\n",
    "SIZE = 224\n",
    "\n",
    "# Device on which our model will run\n",
    "device = torch.device('cuda' if torch.cuda.is_available() else 'cpu')\n",
    "\n",
    "# Map the labels to classes \n",
    "lb2cl = {v: k for k, v in enumerate(pd.Series(train_lbls).unique())}\n",
    "cl2lb = {v: k for k, v in lb2cl.items()}\n",
    "\n",
    "# Map the actual labels to classes which will be used to calucate the loss\n",
    "train_targets = [lb2cl[lb] for lb in train_lbls]"
   ]
  },
  {
   "cell_type": "markdown",
   "metadata": {},
   "source": [
    "### Preprocessing Transforms"
   ]
  },
  {
   "cell_type": "code",
   "execution_count": 14,
   "metadata": {},
   "outputs": [],
   "source": [
    "# Since we are using pretrained-imagenet model we better use imagenet stats\n",
    "stats = [[0.485, 0.456, 0.406], [0.229, 0.224, 0.225]]\n",
    "\n",
    "# Transforms to be applied during preprocessing\n",
    "train_tfms = transforms.Compose([\n",
    "    transforms.Resize(SIZE),\n",
    "    transforms.RandomHorizontalFlip(),\n",
    "    transforms.ToTensor(),\n",
    "    transforms.Normalize(stats[0], stats[1])\n",
    "])\n",
    "\n",
    "test_tfms = transforms.Compose([\n",
    "    transforms.Resize(SIZE),\n",
    "    transforms.ToTensor(),\n",
    "    transforms.Normalize(stats[0], stats[1])\n",
    "])\n",
    "\n",
    "tfms = [train_tfms, test_tfms]"
   ]
  },
  {
   "cell_type": "markdown",
   "metadata": {},
   "source": [
    "### Create databunch and model"
   ]
  },
  {
   "cell_type": "code",
   "execution_count": 15,
   "metadata": {},
   "outputs": [
    {
     "name": "stderr",
     "output_type": "stream",
     "text": [
      "Downloading: \"https://download.pytorch.org/models/resnet18-5c106cde.pth\" to /tmp/.torch/models/resnet18-5c106cde.pth\n",
      "46827520it [00:02, 22636662.05it/s]\n"
     ]
    }
   ],
   "source": [
    "# Get the dataloaders\n",
    "train_dl, valid_dl, test_dl = get_dls(train_imgs, train_targets, test_imgs, tfms, BATCH_SIZE, NUM_WORKERS)\n",
    "\n",
    "# Create fastai DataBunch\n",
    "data_bunch = DataBunch(train_dl, valid_dl)\n",
    "\n",
    "# Create the model using resnet18 architecture\n",
    "model = create_net(models.resnet18, [512, 256], 4, pretrained=True, concat_pool=True)"
   ]
  },
  {
   "cell_type": "markdown",
   "metadata": {},
   "source": [
    "### Fastai Learner"
   ]
  },
  {
   "cell_type": "code",
   "execution_count": 16,
   "metadata": {},
   "outputs": [],
   "source": [
    "# Create learner which will contain the data, model, optimizer, loss function and metrics\n",
    "learn = Learner(data_bunch, model, opt_func=optim.Adam, loss_func=nn.CrossEntropyLoss(), metrics=[accuracy])\n",
    "\n",
    "# Create layer groups of the network for fine-tuning\n",
    "learn = learn.split([learn.model[0][6], learn.model[1]])\n",
    "\n",
    "# Freeze all the layer-groups except the last one\n",
    "learn.freeze()"
   ]
  },
  {
   "cell_type": "markdown",
   "metadata": {},
   "source": [
    "### Training"
   ]
  },
  {
   "cell_type": "code",
   "execution_count": 17,
   "metadata": {},
   "outputs": [
    {
     "data": {
      "text/html": [
       "Total time: 00:59 <p><table border=\"1\" class=\"dataframe\">\n",
       "  <thead>\n",
       "    <tr style=\"text-align: left;\">\n",
       "      <th>epoch</th>\n",
       "      <th>train_loss</th>\n",
       "      <th>valid_loss</th>\n",
       "      <th>accuracy</th>\n",
       "      <th>time</th>\n",
       "    </tr>\n",
       "  </thead>\n",
       "  <tbody>\n",
       "    <tr>\n",
       "      <td>0</td>\n",
       "      <td>0.610250</td>\n",
       "      <td>0.431765</td>\n",
       "      <td>0.833750</td>\n",
       "      <td>00:20</td>\n",
       "    </tr>\n",
       "    <tr>\n",
       "      <td>1</td>\n",
       "      <td>0.468174</td>\n",
       "      <td>0.307978</td>\n",
       "      <td>0.883750</td>\n",
       "      <td>00:19</td>\n",
       "    </tr>\n",
       "    <tr>\n",
       "      <td>2</td>\n",
       "      <td>0.344872</td>\n",
       "      <td>0.271091</td>\n",
       "      <td>0.896875</td>\n",
       "      <td>00:19</td>\n",
       "    </tr>\n",
       "  </tbody>\n",
       "</table>"
      ],
      "text/plain": [
       "<IPython.core.display.HTML object>"
      ]
     },
     "metadata": {},
     "output_type": "display_data"
    }
   ],
   "source": [
    "# Train the network with 4 epochs using fastai OneCycleScheduler\n",
    "learn.fit_one_cycle(3, max_lr=8e-3)"
   ]
  },
  {
   "cell_type": "markdown",
   "metadata": {},
   "source": [
    "Save the weights\n"
   ]
  },
  {
   "cell_type": "code",
   "execution_count": 18,
   "metadata": {},
   "outputs": [],
   "source": [
    "learn.save('stage-1')"
   ]
  },
  {
   "cell_type": "markdown",
   "metadata": {},
   "source": [
    "## Testing"
   ]
  },
  {
   "cell_type": "code",
   "execution_count": 19,
   "metadata": {},
   "outputs": [
    {
     "name": "stderr",
     "output_type": "stream",
     "text": [
      "100%|██████████| 32/32 [00:04<00:00,  6.64it/s]\n"
     ]
    }
   ],
   "source": [
    "test_preds = []\n",
    "\n",
    "# Make predictions batch-wise\n",
    "for a in tqdm(test_dl):\n",
    "    test_preds.extend(torch.argmax(learn.model(a.cuda()), dim=1).cpu().numpy().tolist())"
   ]
  },
  {
   "cell_type": "markdown",
   "metadata": {},
   "source": [
    "## Save the test predictions"
   ]
  },
  {
   "cell_type": "code",
   "execution_count": 20,
   "metadata": {},
   "outputs": [
    {
     "name": "stdout",
     "output_type": "stream",
     "text": [
      "Test size: (2000, 2)\n"
     ]
    },
    {
     "data": {
      "text/html": [
       "<div>\n",
       "<style scoped>\n",
       "    .dataframe tbody tr th:only-of-type {\n",
       "        vertical-align: middle;\n",
       "    }\n",
       "\n",
       "    .dataframe tbody tr th {\n",
       "        vertical-align: top;\n",
       "    }\n",
       "\n",
       "    .dataframe thead th {\n",
       "        text-align: right;\n",
       "    }\n",
       "</style>\n",
       "<table border=\"1\" class=\"dataframe\">\n",
       "  <thead>\n",
       "    <tr style=\"text-align: right;\">\n",
       "      <th></th>\n",
       "      <th>image_index</th>\n",
       "      <th>class</th>\n",
       "    </tr>\n",
       "  </thead>\n",
       "  <tbody>\n",
       "    <tr>\n",
       "      <th>0</th>\n",
       "      <td>0</td>\n",
       "      <td>0</td>\n",
       "    </tr>\n",
       "    <tr>\n",
       "      <th>1</th>\n",
       "      <td>1</td>\n",
       "      <td>0</td>\n",
       "    </tr>\n",
       "    <tr>\n",
       "      <th>2</th>\n",
       "      <td>2</td>\n",
       "      <td>0</td>\n",
       "    </tr>\n",
       "    <tr>\n",
       "      <th>3</th>\n",
       "      <td>3</td>\n",
       "      <td>0</td>\n",
       "    </tr>\n",
       "    <tr>\n",
       "      <th>4</th>\n",
       "      <td>4</td>\n",
       "      <td>0</td>\n",
       "    </tr>\n",
       "  </tbody>\n",
       "</table>\n",
       "</div>"
      ],
      "text/plain": [
       "   image_index  class\n",
       "0            0      0\n",
       "1            1      0\n",
       "2            2      0\n",
       "3            3      0\n",
       "4            4      0"
      ]
     },
     "execution_count": 20,
     "metadata": {},
     "output_type": "execute_result"
    }
   ],
   "source": [
    "# Re-map to original labels\n",
    "test_preds = [cl2lb[p] for p in test_preds]\n",
    "\n",
    "# Create and save the dataframe\n",
    "test_sub = pd.DataFrame({'image_index': range(len(test_preds)), 'class': test_preds})\n",
    "test_sub.to_csv('Rohit_Gupta.csv', header=True, index=False)\n",
    "print(f'Test size: {test_sub.shape}')\n",
    "test_sub.head()"
   ]
  },
  {
   "cell_type": "code",
   "execution_count": 22,
   "metadata": {},
   "outputs": [],
   "source": []
  }
 ],
 "metadata": {
  "kernelspec": {
   "display_name": "Python 3",
   "language": "python",
   "name": "python3"
  },
  "language_info": {
   "codemirror_mode": {
    "name": "ipython",
    "version": 3
   },
   "file_extension": ".py",
   "mimetype": "text/x-python",
   "name": "python",
   "nbconvert_exporter": "python",
   "pygments_lexer": "ipython3",
   "version": "3.7.2"
  },
  "varInspector": {
   "cols": {
    "lenName": 16,
    "lenType": 16,
    "lenVar": 40
   },
   "kernels_config": {
    "python": {
     "delete_cmd_postfix": "",
     "delete_cmd_prefix": "del ",
     "library": "var_list.py",
     "varRefreshCmd": "print(var_dic_list())"
    },
    "r": {
     "delete_cmd_postfix": ") ",
     "delete_cmd_prefix": "rm(",
     "library": "var_list.r",
     "varRefreshCmd": "cat(var_dic_list()) "
    }
   },
   "types_to_exclude": [
    "module",
    "function",
    "builtin_function_or_method",
    "instance",
    "_Feature"
   ],
   "window_display": false
  }
 },
 "nbformat": 4,
 "nbformat_minor": 1
}
